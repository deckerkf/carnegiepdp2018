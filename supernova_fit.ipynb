{
  "nbformat": 4,
  "nbformat_minor": 0,
  "metadata": {
    "colab": {
      "name": "supernova_fit.ipynb",
      "version": "0.3.2",
      "views": {},
      "default_view": {},
      "provenance": []
    },
    "kernelspec": {
      "name": "python3",
      "display_name": "Python 3"
    }
  },
  "cells": [
    {
      "metadata": {
        "id": "3YlCNiPHLupL",
        "colab_type": "text"
      },
      "cell_type": "markdown",
      "source": [
        "# Measuring the distance to a Supernova"
      ]
    },
    {
      "metadata": {
        "id": "kgWcpNDuL5Ea",
        "colab_type": "text"
      },
      "cell_type": "markdown",
      "source": [
        "Using the provided notebook, determine how to find the distance to a supernova by fitting a model to its lightcurve. Create a figure to explain the model you fit, the parameters you chose, and the distance you determined. Comment your code throughout, such that another team can quickly understand each step in your code."
      ]
    },
    {
      "metadata": {
        "id": "e7WKJTEBMiyR",
        "colab_type": "text"
      },
      "cell_type": "markdown",
      "source": [
        "This notebook uses iPython cells to do things like read in data, plot, and calculate. We have provided some code cells to get you started. You can add to existing cells or insert your own with the (+ CODE) box. Comments can be added using a # symbol or by using separate (+ TEXT) boxes."
      ]
    },
    {
      "metadata": {
        "id": "szm0RRQ7Mm0R",
        "colab_type": "text"
      },
      "cell_type": "markdown",
      "source": [
        "This first cell imports some useful packages you may want to use. To run this cell, click inside it and hit shift+enter"
      ]
    },
    {
      "metadata": {
        "id": "wkaNUmuFMp16",
        "colab_type": "code",
        "colab": {
          "autoexec": {
            "startup": false,
            "wait_interval": 0
          }
        }
      },
      "cell_type": "code",
      "source": [
        "import numpy as np\n",
        "import pandas as pd\n",
        "from matplotlib import pyplot as plt\n",
        "!pip install astropy\n",
        "import astropy\n",
        "from astropy import units as u\n",
        "from astropy import cosmology\n",
        "from astropy.cosmology import WMAP9 as cosmo\n",
        "from astropy.cosmology import z_at_value\n",
        "!pip install sncosmo\n",
        "import sncosmo\n",
        "!pip install iminuit\n",
        "import iminuit\n",
        "from scipy import optimize"
      ],
      "execution_count": 0,
      "outputs": []
    },
    {
      "metadata": {
        "id": "KRwCxoPeMxhJ",
        "colab_type": "text"
      },
      "cell_type": "markdown",
      "source": [
        "In this notebook, you'll measure the observed brightness, or **flux**, of a type Ia supernova, and use that to calculate the distance to that supernova. Type Ia supernovae are unique objects in this regard, because we have independent knowledge of their intrinsic  **luminosity**. "
      ]
    },
    {
      "metadata": {
        "id": "6jMZMUiINmwD",
        "colab_type": "text"
      },
      "cell_type": "markdown",
      "source": [
        "# Exploring the Data"
      ]
    },
    {
      "metadata": {
        "id": "EafMT3h3Nryk",
        "colab_type": "text"
      },
      "cell_type": "markdown",
      "source": [
        "Next, upload the supernova light curve data file\n",
        "This is table 10 from http://cdsarc.u-strasbg.fr/viz-bin/qcat?J/A+A/523/A7"
      ]
    },
    {
      "metadata": {
        "id": "PQBEGccHL4bK",
        "colab_type": "code",
        "colab": {
          "autoexec": {
            "startup": false,
            "wait_interval": 0
          }
        }
      },
      "cell_type": "code",
      "source": [
        "# Remove the directory if it already exists\n",
        "!rm -rf carnegiepdp2018\n",
        "# Download data and models\n",
        "!git clone https://github.com/deckerkf/carnegiepdp2018.git\n",
        "# Add this so we can import code\n",
        "import sys\n",
        "sys.path.insert(0,\"carnegiepdp2018\")"
      ],
      "execution_count": 0,
      "outputs": []
    },
    {
      "metadata": {
        "id": "CbFNTmrlNyfc",
        "colab_type": "text"
      },
      "cell_type": "markdown",
      "source": [
        "This next cell reads in the supernova light curve data file with pandas"
      ]
    },
    {
      "metadata": {
        "id": "r68MandELfSo",
        "colab_type": "code",
        "colab": {
          "autoexec": {
            "startup": false,
            "wait_interval": 0
          }
        }
      },
      "cell_type": "code",
      "source": [
        "data = pd.read_csv('carnegiepdp2018/sntable.dat') #read in the data file"
      ],
      "execution_count": 0,
      "outputs": []
    },
    {
      "metadata": {
        "id": "_ACXpR7MN2A6",
        "colab_type": "text"
      },
      "cell_type": "markdown",
      "source": [
        "Next, take a look at the data. Create a new code cell below, type \"data\", and hit shift-enter to see a table of the data."
      ]
    },
    {
      "metadata": {
        "id": "OfjNrIzWN9xC",
        "colab_type": "text"
      },
      "cell_type": "markdown",
      "source": [
        "This datafile contains flux measurements for a set of supernova at different times and in different color filters. The times are in modified julian date (MJD) days, which are the fractional number of days since midnight Nov 17, 1858. The flux measurements are in \"analog data units\" (ADU) scaled from a zero-point of 30 mag, indicated by the \"zp\" column. In practice, this means the fluxes are on a linear scale. The supernova model we will use later will take these units and this format into account.\n",
        "\n",
        "The pandas code to select a single supernova and a single filter looks like the following:"
      ]
    },
    {
      "metadata": {
        "id": "bwHws6w6N7w7",
        "colab_type": "code",
        "colab": {
          "autoexec": {
            "startup": false,
            "wait_interval": 0
          }
        }
      },
      "cell_type": "code",
      "source": [
        "SN_1 = data[data[\"name\"] == \"03D1ar\"]\n",
        "SN_1g = SN_1[SN_1[\"filter\"] == \"sdssg\"]"
      ],
      "execution_count": 0,
      "outputs": []
    },
    {
      "metadata": {
        "id": "qT7g5S85OFgU",
        "colab_type": "text"
      },
      "cell_type": "markdown",
      "source": [
        "Look at the data now in SN_1g to verify this has done what you expect"
      ]
    },
    {
      "metadata": {
        "id": "hH2h4u1TOJHL",
        "colab_type": "code",
        "colab": {
          "autoexec": {
            "startup": false,
            "wait_interval": 0
          }
        }
      },
      "cell_type": "code",
      "source": [
        ""
      ],
      "execution_count": 0,
      "outputs": []
    },
    {
      "metadata": {
        "id": "3-ERg-g2OJhi",
        "colab_type": "text"
      },
      "cell_type": "markdown",
      "source": [
        "We can also look at the data graphically, using code like this:"
      ]
    },
    {
      "metadata": {
        "id": "3ZC0CSbVOLAD",
        "colab_type": "code",
        "colab": {
          "autoexec": {
            "startup": false,
            "wait_interval": 0
          }
        }
      },
      "cell_type": "code",
      "source": [
        "plt.plot(SN_1g['mjd'],SN_1g['flux'],marker='*',linestyle='none',markersize=10)\n",
        "plt.xlabel('Time (days, MJD)')\n",
        "plt.ylabel('Flux')\n",
        "plt.show()"
      ],
      "execution_count": 0,
      "outputs": []
    },
    {
      "metadata": {
        "id": "hMAlutPYX9vc",
        "colab_type": "text"
      },
      "cell_type": "markdown",
      "source": [
        "Some useful resources for plotting with matplotlib are [the matplotlib gallery](https://matplotlib.org/gallery.html) and [pyplot reference](https://matplotlib.org/2.1.1/api/_as_gen/matplotlib.pyplot.plot.html)."
      ]
    },
    {
      "metadata": {
        "id": "kZX7n90pcSvL",
        "colab_type": "text"
      },
      "cell_type": "markdown",
      "source": [
        "Individual elements of pandas datatables can be read using \".iloc\":"
      ]
    },
    {
      "metadata": {
        "id": "7jXHUVpgcTZS",
        "colab_type": "code",
        "colab": {
          "autoexec": {
            "startup": false,
            "wait_interval": 0
          }
        }
      },
      "cell_type": "code",
      "source": [
        "print(SN_1g.iloc[0]['mjd']) #print the first element of the column named \"mjd\""
      ],
      "execution_count": 0,
      "outputs": []
    },
    {
      "metadata": {
        "id": "2R4VaDbsOTAr",
        "colab_type": "text"
      },
      "cell_type": "markdown",
      "source": [
        "# Standard Candles"
      ]
    },
    {
      "metadata": {
        "id": "gg9d_p7FOU-b",
        "colab_type": "text"
      },
      "cell_type": "markdown",
      "source": [
        "Next, look at the lightcurves for the supernovae 04D1hd and 06D4dh. The distances to these supernovae are 2002 Mpc and 1591 Mpc, respectively. Can these 2 lightcurves be used to measure distance? Why or why not? Explain using a plot. Comment your code throughout, such that another team can quickly understand each step in your code."
      ]
    },
    {
      "metadata": {
        "id": "YoOk7Y5XOoiz",
        "colab_type": "code",
        "colab": {
          "autoexec": {
            "startup": false,
            "wait_interval": 0
          }
        }
      },
      "cell_type": "code",
      "source": [
        ""
      ],
      "execution_count": 0,
      "outputs": []
    },
    {
      "metadata": {
        "id": "4CL32-IEbPhJ",
        "colab_type": "text"
      },
      "cell_type": "markdown",
      "source": [
        "Swap code with your partner and talk through your solutions."
      ]
    },
    {
      "metadata": {
        "id": "h6zclEtsPouD",
        "colab_type": "text"
      },
      "cell_type": "markdown",
      "source": [
        "# Exploring the supernova model"
      ]
    },
    {
      "metadata": {
        "id": "i5gkuHrmPsDn",
        "colab_type": "text"
      },
      "cell_type": "markdown",
      "source": [
        "Next, we'll use a supernova model called MLCS2K2 and a tool called SNcosmo to fit to the data"
      ]
    },
    {
      "metadata": {
        "id": "1jpknjBXP_1N",
        "colab_type": "text"
      },
      "cell_type": "markdown",
      "source": [
        "This next block is a function which will take your input data, as well as an array of times, and a list of model parameters, and return model fluxes for each of those times as well as the implied distance given those parameters. If you would like to come back to this section to edit the model function, more information about the model and sncosmo can be found [here](https://sncosmo.readthedocs.io)."
      ]
    },
    {
      "metadata": {
        "id": "kAZ_1xDKQHe-",
        "colab_type": "code",
        "colab": {
          "autoexec": {
            "startup": false,
            "wait_interval": 0
          }
        }
      },
      "cell_type": "code",
      "source": [
        "def sn_model(dat,time,t0,f0,delta):\n",
        "    \"\"\"\n",
        "    Generate a supernova light curve using sncosmo and the MLCS2K2 models\n",
        "    inputs:\n",
        "      dat: pandas table with supernova data for your selected object and filter\n",
        "      time: time array (mjd) to calculate model spectra\n",
        "      t0: time (mjd) of peak flux\n",
        "      f0: close to your estimate of the peak flux (in the same units as provided in the data table)\n",
        "          the model peak flux will vary somewhat from this depending on the other parameters and the filter\n",
        "      delta: shape parameter; 0 is a good guess, but try a range from -0.5 to 1.8 to see how this behaves\n",
        "    outputs:\n",
        "      flux_model: the model fluxes at each time in the input array, also in zero-point=25mag flux units\n",
        "      distance: the implied distance to the supernova given the input parameters\n",
        "    \"\"\"\n",
        "    table = astropy.table.Table.from_pandas(dat) # convert from a pandas table to an astropy table\n",
        "    filt = dat.iloc[0]['filter']\n",
        "    zpsys = SN_1g.iloc[0]['zpsys']\n",
        "    zp = SN_1g.iloc[0]['zp']\n",
        "    model = sncosmo.Model('mlcs2k2')\n",
        "    Mabs = -19.504+0.736*delta+0.182*delta**2 + 5*np.log10(69/65)\n",
        "    mag0 = zp-2.5*np.log10(f0)\n",
        "    dmod = mag0-Mabs\n",
        "    zz = z_at_value(cosmo.distmod, dmod*u.mag)\n",
        "    model.parameters[0] = zz\n",
        "    model.parameters[1] = t0\n",
        "    model.parameters[3] = delta\n",
        "    model.set_source_peakabsmag(Mabs, filt,zpsys)\n",
        "    model.set_source_peakmag(mag0, filt, zpsys)\n",
        "    flux_model = model.bandflux(filt, time ,zpsys=zpsys,zp=zp)\n",
        "    distance = cosmo.luminosity_distance(zz)\n",
        "    return flux_model, distance"
      ],
      "execution_count": 0,
      "outputs": []
    },
    {
      "metadata": {
        "id": "9dl0HKZHQRnk",
        "colab_type": "text"
      },
      "cell_type": "markdown",
      "source": [
        "Start by exploring the model parameters to see how varying them changes the shape of the lightcurve"
      ]
    },
    {
      "metadata": {
        "id": "-xHrHroPQTSG",
        "colab_type": "text"
      },
      "cell_type": "markdown",
      "source": [
        "# Fitting the supernova model by hand"
      ]
    },
    {
      "metadata": {
        "id": "ndtdfSvqQWxV",
        "colab_type": "text"
      },
      "cell_type": "markdown",
      "source": [
        "Next, pick a supernova dataset, and experiment with finding the best-fit parameters by hand. Some suggestions for SN dataset choices are: 03D1ar, 04D1hd,04D3fk, or 05D4bm."
      ]
    },
    {
      "metadata": {
        "id": "HS7LqNxsQmU1",
        "colab_type": "code",
        "colab": {
          "autoexec": {
            "startup": false,
            "wait_interval": 0
          }
        }
      },
      "cell_type": "code",
      "source": [
        ""
      ],
      "execution_count": 0,
      "outputs": []
    },
    {
      "metadata": {
        "id": "YGdYtrQ0bV_h",
        "colab_type": "text"
      },
      "cell_type": "markdown",
      "source": [
        "Swap code with your partner and talk through your solutions."
      ]
    },
    {
      "metadata": {
        "id": "RzJm4QECQs6d",
        "colab_type": "text"
      },
      "cell_type": "markdown",
      "source": [
        "# Automate fitting your model"
      ]
    },
    {
      "metadata": {
        "id": "UAtc0eeFQt2x",
        "colab_type": "text"
      },
      "cell_type": "markdown",
      "source": [
        "(optional) Use `scipy.optimize.curve_fit` to determine the best-fit parameters automatically.\n",
        "Create a figure to explain the model you fit, the parameters you chose, and the distance you determined. Comment your code throughout, such that another team can quickly understand each step in your code."
      ]
    },
    {
      "metadata": {
        "id": "T28Yjv5zQxWN",
        "colab_type": "code",
        "colab": {
          "autoexec": {
            "startup": false,
            "wait_interval": 0
          }
        }
      },
      "cell_type": "code",
      "source": [
        "#use this to see what inputs curve_fit needs and what outputs it generates\n",
        "?optimize_curve_fit"
      ],
      "execution_count": 0,
      "outputs": []
    },
    {
      "metadata": {
        "id": "kM7YIGRJerZy",
        "colab_type": "text"
      },
      "cell_type": "markdown",
      "source": [
        "Curve_fit requires the function to be fit to be defined in a specific way, so use the following wrapper function"
      ]
    },
    {
      "metadata": {
        "id": "rgPQXpK4etQ5",
        "colab_type": "code",
        "colab": {
          "autoexec": {
            "startup": false,
            "wait_interval": 0
          }
        }
      },
      "cell_type": "code",
      "source": [
        "# define a wrapper function to use with curve_fit\n",
        "def fitfn(xdata, *params):\n",
        "  return sn_model(sndat, xdata, *params)[0]"
      ],
      "execution_count": 0,
      "outputs": []
    },
    {
      "metadata": {
        "id": "ZxaUsi7HbYTR",
        "colab_type": "code",
        "colab": {
          "autoexec": {
            "startup": false,
            "wait_interval": 0
          }
        }
      },
      "cell_type": "code",
      "source": [
        ""
      ],
      "execution_count": 0,
      "outputs": []
    },
    {
      "metadata": {
        "id": "h25pMQIHbXYZ",
        "colab_type": "text"
      },
      "cell_type": "markdown",
      "source": [
        "Swap code with your partner and talk through your solutions."
      ]
    }
  ]
}